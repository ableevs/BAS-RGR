{
  "nbformat": 4,
  "nbformat_minor": 0,
  "metadata": {
    "colab": {
      "name": "1,2.ipynb",
      "provenance": [],
      "toc_visible": true,
      "collapsed_sections": []
    },
    "kernelspec": {
      "name": "python3",
      "display_name": "Python 3"
    },
    "language_info": {
      "name": "python"
    }
  },
  "cells": [
    {
      "cell_type": "markdown",
      "source": [
        "# Греческий алфавит\n",
        "Заглавная|Строчная|Название\n",
        "--|--|--\n",
        "A|α|альфа\n",
        "B|β|бета\n",
        "Г|γ|гамма "
      ],
      "metadata": {
        "id": "X2bodLD2_VgZ"
      }
    },
    {
      "cell_type": "markdown",
      "source": [
        "# Нормальное распредление\n",
        "\n",
        "Формула в отдельной строке:\n",
        "$${\\displaystyle f(x)={\\frac {1}{\\sigma {\\sqrt {2\\pi }}}}e^{-{\\frac {1}{2}}\n",
        "\\left({\\frac {x-\\mu }{\\sigma }}\\right)*{2}}}$$\n",
        "\n",
        "В тексте:\n",
        "${\\displaystyle f(x)={\\frac {1}{\\sigma {\\sqrt {2\\pi }}}}e^{-{\\frac {1}{2}}\\left({\\frac {x-\\mu }{\\sigma }}\\right)*{2}}}$\n"
      ],
      "metadata": {
        "id": "6J4wGsGS_ZCQ"
      }
    },
    {
      "cell_type": "markdown",
      "source": [
        "# Заголовок первого уровня \n",
        "## Заголовок второго уровня \n",
        "### Заголовок третьего уровня \n"
      ],
      "metadata": {
        "id": "ZIPicTCt_eNY"
      }
    }
  ]
}